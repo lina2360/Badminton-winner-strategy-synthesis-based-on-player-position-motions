{
 "cells": [
  {
   "cell_type": "markdown",
   "metadata": {},
   "source": [
    "# OUTPUT轉回球種 -1.TXT轉成EXCEL 123轉成FMB"
   ]
  },
  {
   "cell_type": "code",
   "execution_count": null,
   "metadata": {},
   "outputs": [],
   "source": [
    "import xlrd\n",
    "import os\n",
    "import pandas as pd\n",
    "\n",
    "import openpyxl,string \n",
    "\n",
    "f=open(r'C:/Users/lilly/Desktop/HiSeqGan-master/applications/wm5-normalize/SeqGAN/seqGAN_output_seqGAN_input_hs11_22.txt','r+') \n",
    "#打開Txt文件 \n",
    "name=r'C://Users/lilly/Desktop/HiSeqGan-master/seqganoutput/seqGAN_output_seqGAN_input_hs11_22.xlsx'\n",
    "wb = openpyxl.Workbook()\n",
    "wb.save(name)\n",
    "excel=openpyxl.load_workbook(name) \n",
    "#打開Excel文件 \n",
    "sheet=excel.worksheets \n",
    "# line=f.readline(); \n",
    "#讀取第一行文本 \n",
    "for line in f: \n",
    "    \n",
    "    list=[] \n",
    "    list=line.split(sep=' ') \n",
    "    print( list )\n",
    "    sheet[0].append(list)\n",
    "\n",
    "excel.save(name)\n",
    "\n",
    "#123轉回FMB\n",
    "df = pd.read_excel(name)\n",
    "df.replace(1,'F',inplace=True)\n",
    "df.replace(2,\"M\",inplace=True)\n",
    "df.replace(3,\"B\",inplace=True)\n",
    "df.to_excel(name,index=False)\n",
    "\n",
    "\n",
    "# 原文網址：https://kknews.cc/code/ymmxg4g.html\n",
    "        "
   ]
  },
  {
   "cell_type": "markdown",
   "metadata": {},
   "source": [
    "# OUTPUT轉回球種 -2.EXCEL的FMB轉成球種"
   ]
  },
  {
   "cell_type": "code",
   "execution_count": null,
   "metadata": {},
   "outputs": [],
   "source": [
    "import xlrd ,xlwt\n",
    "# #讀        \n",
    "file_path = os.path.dirname(\"C://Users/lilly/Desktop/HiSeqGan-master/seqganoutput/\")\n",
    "base_path = os.path.join(file_path, 'seqGAN_output_seqGAN_input_hs11_22.xlsx')\n",
    "book = xlrd.open_workbook(base_path)\n",
    "sheet1 = book.sheets()[0]  \n",
    "\n",
    "\n",
    "#寫\n",
    "data_name='seqGAN_output_hs11_22_type.xls'\n",
    "folderpath = 'C://Users/lilly/Desktop/HiSeqGan-master/seqganoutput/'     \n",
    "booknew = xlwt.Workbook(encoding='utf-8',style_compression=0)\n",
    "sheet2 = booknew.add_sheet('cordination',cell_overwrite_ok=True) \n",
    "# Clear (長 球): (player, receiver)=BB\n",
    "# Drop (切 球): (player, receiver)=BF\n",
    "# Smash(殺 球): (player, receiver)=BM\n",
    "# Drive (平 球): (player, receiver)=MM\n",
    "# Net (網前 小 球): (player, receiver)=FF\n",
    "# Net lift (網前 挑 球): (player, receiver)=FB\n",
    "# Dribble(抽 球): (player, receiver)=MB\n",
    "# Net smash(撲 球): (player, receiver)=FM\n",
    "# Defensive short(防守 擋 短球): (player, receiver)=MF\n",
    "for i in range(0,sheet1.nrows):#直的\n",
    "    #橫的0~39\n",
    "    num=0\n",
    "\n",
    "    while(num<39):\n",
    "        if(sheet1.cell(i,num).value=='0'):\n",
    "            num=41\n",
    "        elif(sheet1.cell(i,num).value!='0' and sheet1.cell(i,num+1).value!='0'):\n",
    "            ball1=sheet1.cell(i,num).value\n",
    "            ball2=sheet1.cell(i,num+1).value\n",
    " \n",
    "            if(ball1 == \"B\" and ball2 == \"B\"):\n",
    "                birdy=\"Clear\"\n",
    "                sheet2.write(i, num, birdy)\n",
    "               \n",
    "            elif(ball1 == \"B\" and ball2 == \"F\"):\n",
    "                birdy=\"Drop\"\n",
    "                sheet2.write(i, num, birdy)\n",
    "               \n",
    "            elif(ball1 == \"B\" and ball2 == \"M\"):\n",
    "                birdy=\"Smash\"\n",
    "                sheet2.write(i, num, birdy)\n",
    "                \n",
    "            elif(ball1 == \"M\" and ball2 == \"M\"):\n",
    "                birdy=\"Drive\"\n",
    "                sheet2.write(i, num, birdy)\n",
    "               \n",
    "            elif(ball1 == \"F\" and ball2 == \"F\"):\n",
    "                birdy=\"Net\"\n",
    "                sheet2.write(i, num, birdy)\n",
    "               \n",
    "            elif(ball1 is \"F\" and ball2 is \"B\"):\n",
    "                birdy=\"Net_lift\"\n",
    "                sheet2.write(i, num, birdy)\n",
    "               \n",
    "            elif(ball1 is \"M\" and ball2 is \"B\"):\n",
    "                birdy=\"Dribble\"\n",
    "                sheet2.write(i, num, birdy)\n",
    "               \n",
    "            elif(ball1 is \"F\" and ball2 is \"M\"):\n",
    "                birdy=\"Net_smash\"\n",
    "                sheet2.write(i, num, birdy)\n",
    "                \n",
    "            elif(ball1==\"M\" and ball2==\"F\"):\n",
    "                birdy=\"Defensive_short\"\n",
    "                sheet2.write(i, num, birdy)\n",
    "            num=num+1\n",
    "            booknew.save(folderpath+data_name)\n",
    "        else:\n",
    "            num=41\n",
    "              \n",
    "\n"
   ]
  },
  {
   "cell_type": "markdown",
   "metadata": {},
   "source": [
    "# OUTPUT轉回球種 -3.EXCEL轉成TXT"
   ]
  },
  {
   "cell_type": "code",
   "execution_count": null,
   "metadata": {},
   "outputs": [],
   "source": [
    "import pandas as pd\n",
    "df = pd.read_excel('seqGAN_output_tk1_22_type.xls')\n",
    "df.to_csv('seqGAN_output_tk1_22_type.txt',sep=' ',header = False,index = False)"
   ]
  }
 ],
 "metadata": {
  "kernelspec": {
   "display_name": "Python 3",
   "language": "python",
   "name": "python3"
  },
  "language_info": {
   "codemirror_mode": {
    "name": "ipython",
    "version": 3
   },
   "file_extension": ".py",
   "mimetype": "text/x-python",
   "name": "python",
   "nbconvert_exporter": "python",
   "pygments_lexer": "ipython3",
   "version": "3.5.5"
  }
 },
 "nbformat": 4,
 "nbformat_minor": 2
}
